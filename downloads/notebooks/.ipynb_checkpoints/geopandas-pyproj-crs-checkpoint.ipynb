{
 "cells": [
  {
   "cell_type": "code",
   "execution_count": 1,
   "metadata": {},
   "outputs": [],
   "source": [
    "import pyproj\n",
    "pyproj.datadir.set_data_dir(\"/home/joris/miniconda3/envs/geo-dev/share/proj/\")"
   ]
  },
  {
   "cell_type": "markdown",
   "metadata": {},
   "source": [
    "# GeoPandas now uses pyproj.CRS and catches up with PROJ 6"
   ]
  },
  {
   "cell_type": "markdown",
   "metadata": {},
   "source": [
    "<!-- PELICAN_BEGIN_SUMMARY -->\n",
    "<p>\n",
    "Short summary: the upcoming 0.7.0 release of GeoPandas will start using `pyproj.CRS` to represent the Coordinate Reference System of a GeoDataFrame. This brings along a better user interface, many changes and improvements from PROJ 6, but might also require some changes in your code (getting rid of proj4 strings).\n",
    "</p>\n",
    "<!-- PELICAN_END_SUMMARY -->"
   ]
  },
  {
   "cell_type": "markdown",
   "metadata": {},
   "source": [
    "## What is PROJ ?\n",
    "\n",
    "To quote from their [website](https://proj.org/index.html), PROJ is \"a generic coordinate transformation software that transforms geospatial coordinates from one coordinate reference system (CRS) to another. This includes cartographic projections as well as geodetic transformations\".  \n",
    "PROJ is a foundational piece of the open source geospatial ecosystem providing the functionality to transform coordinates in many projects such as GDAL, QGIS, PostGIS, ... and also in GeoPandas.\n",
    "\n",
    "Over the last years, PROJ has seen a lot of improvements (through the [GDAL barn](https://gdalbarn.com/) fundraising): a unified CRS database (now included in PROJ), better WKT2 support for describing a CRS in a standardized way (\"Well Known Text\" format), and more accurate transformations between CRS with different datums. This culminated in the PROJ 6 release (see the [release notes](https://proj.org/news.html#id106))\n",
    "\n",
    "Following the changes in PROJ, the [`pyproj`](https://pyproj4.github.io/pyproj/stable/) package (which provides python bindings to PROJ) introduced the `pyproj.CRS` object to represent a Coordinate Reference System with a user-friendly interface. This has some consequences, that I will try to explain below."
   ]
  },
  {
   "cell_type": "markdown",
   "metadata": {},
   "source": [
    "## Back to GeoPandas: how was/is CRS information stored?\n",
    "\n",
    "In GeoPandas, the `.crs` attribute stores the CRS of the GeoDataFrame, and up to now (version 0.6), this was stored as a **\"proj4 string\"** (or a dictionary representation of it). \n",
    "\n",
    "For example, you would see things like this:\n",
    "\n",
    "```python\n",
    ">>> gdf = geopandas.read_file(geopandas.datasets.get_path(\"naturalearth_cities\"))\n",
    ">>> gdf.crs\n",
    "{'init': 'epsg:4326'}\n",
    "```\n",
    "\n",
    "The above is the dictionary form of \"+init=epsg:4326\", a proj4 string using an [EPSG code](https://en.wikipedia.org/wiki/EPSG_Geodetic_Parameter_Dataset) to describe the CRS. And a full form proj4 string could for example look like this (for the projected CRS EPSG:31370 used in Belgium):\n",
    "\n",
    "```\n",
    "\"+proj=lcc +lat_0=90 +lon_0=4.36748666666667 +lat_1=51.1666672333333 +lat_2=49.8333339 +x_0=150000.013 +y_0=5400088.438 +ellps=intl +units=m +no_defs +type=crs\"\n",
    "```\n",
    "\n",
    "The above is now the past: **starting with GeoPandas 0.7**, the CRS information will be stored as a **`pyproj.CRS` object**, which is a richer representation of a coordinate reference system.  \n",
    "Repeating the code sample from above, but now using the upcoming GeoPandas 0.7 in combination with pyproj 2.4, we get:"
   ]
  },
  {
   "cell_type": "code",
   "execution_count": 2,
   "metadata": {},
   "outputs": [
    {
     "data": {
      "text/plain": [
       "<Geographic 2D CRS: EPSG:4326>\n",
       "Name: WGS 84\n",
       "Axis Info [ellipsoidal]:\n",
       "- Lat[north]: Geodetic latitude (degree)\n",
       "- Lon[east]: Geodetic longitude (degree)\n",
       "Area of Use:\n",
       "- name: World\n",
       "- bounds: (-180.0, -90.0, 180.0, 90.0)\n",
       "Datum: World Geodetic System 1984\n",
       "- Ellipsoid: WGS 84\n",
       "- Prime Meridian: Greenwich"
      ]
     },
     "execution_count": 2,
     "metadata": {},
     "output_type": "execute_result"
    }
   ],
   "source": [
    "import geopandas\n",
    "gdf = geopandas.read_file(geopandas.datasets.get_path(\"naturalearth_cities\"))\n",
    "gdf.crs"
   ]
  },
  {
   "cell_type": "code",
   "execution_count": 3,
   "metadata": {},
   "outputs": [
    {
     "data": {
      "text/plain": [
       "pyproj.crs.CRS"
      ]
     },
     "execution_count": 3,
     "metadata": {},
     "output_type": "execute_result"
    }
   ],
   "source": [
    "type(gdf.crs)"
   ]
  },
  {
   "cell_type": "markdown",
   "metadata": {},
   "source": [
    "## Moving away from \"proj4 strings\"\n",
    "\n",
    "With the changes in PROJ 6, the PROJ community wants to move away from using proj4 strings to represent a CRS, as we did up to now. *Why?* Because the proj4 string is limited and cannot faithfully describe a certain CRS. Using a proj4 string (instead of e.g. a WKT string) loses valuable information about the CRS (e.g. the name, the exact datum, the area of use, etc), possibly resulting in less precise transformations.\n",
    "\n",
    "*What should be used instead?* The most recommended formats are \"Well Known Text\" (WKT) strings and AUTHORITY:CODE identifiers (where the authority typically is EPSG). In practice, using the EPSG code will work in many cases. For example \"EPSG:4326\" for geographical coordinates (WGS84) or \"EPSG:3857\" for projected coordinates in the Web Mercator projection.\n",
    "\n",
    "See also: https://proj.org/faq.html#what-is-the-best-format-for-describing-coordinate-reference-systems\n",
    "\n",
    "(Sidenote: there are still use cases for proj4 strings, such as for describing transformation pipelines in PROJ, or in cases you don't care about the specific datum, but in general *not* for describing a CRS)."
   ]
  },
  {
   "cell_type": "markdown",
   "metadata": {},
   "source": [
    "## The new `pyproj.CRS` class\n",
    "\n",
    "As shown above, the `.crs` attribute now returns a `pyproj.CRS`. And you can already see that the representation of this objects is much more informative than the proj4 string before (it includes its name, whether it is geographic or projected, the area of use, the datum, ...):"
   ]
  },
  {
   "cell_type": "code",
   "execution_count": 4,
   "metadata": {},
   "outputs": [
    {
     "data": {
      "text/plain": [
       "<Geographic 2D CRS: EPSG:4326>\n",
       "Name: WGS 84\n",
       "Axis Info [ellipsoidal]:\n",
       "- Lat[north]: Geodetic latitude (degree)\n",
       "- Lon[east]: Geodetic longitude (degree)\n",
       "Area of Use:\n",
       "- name: World\n",
       "- bounds: (-180.0, -90.0, 180.0, 90.0)\n",
       "Datum: World Geodetic System 1984\n",
       "- Ellipsoid: WGS 84\n",
       "- Prime Meridian: Greenwich"
      ]
     },
     "execution_count": 4,
     "metadata": {},
     "output_type": "execute_result"
    }
   ],
   "source": [
    "gdf.crs"
   ]
  },
  {
   "cell_type": "markdown",
   "metadata": {},
   "source": [
    "This object now provides a much richer and more user-friendly interface compared to the old proj4 strings/dicts. Apart from the repr, the above information is also available through attributes or methods:"
   ]
  },
  {
   "cell_type": "code",
   "execution_count": 5,
   "metadata": {},
   "outputs": [
    {
     "data": {
      "text/plain": [
       "'WGS 84'"
      ]
     },
     "execution_count": 5,
     "metadata": {},
     "output_type": "execute_result"
    }
   ],
   "source": [
    "gdf.crs.name"
   ]
  },
  {
   "cell_type": "code",
   "execution_count": 6,
   "metadata": {},
   "outputs": [
    {
     "data": {
      "text/plain": [
       "DATUM[\"World Geodetic System 1984\",\n",
       "    ELLIPSOID[\"WGS 84\",6378137,298.257223563,\n",
       "        LENGTHUNIT[\"metre\",1]],\n",
       "    ID[\"EPSG\",6326]]"
      ]
     },
     "execution_count": 6,
     "metadata": {},
     "output_type": "execute_result"
    }
   ],
   "source": [
    "gdf.crs.datum"
   ]
  },
  {
   "cell_type": "markdown",
   "metadata": {},
   "source": [
    "Or for a projected CRS:"
   ]
  },
  {
   "cell_type": "code",
   "execution_count": 7,
   "metadata": {},
   "outputs": [
    {
     "data": {
      "text/plain": [
       "<Projected CRS: EPSG:31370>\n",
       "Name: Belge 1972 / Belgian Lambert 72\n",
       "Axis Info [cartesian]:\n",
       "- X[east]: Easting (metre)\n",
       "- Y[north]: Northing (metre)\n",
       "Area of Use:\n",
       "- name: Belgium - onshore\n",
       "- bounds: (2.5, 49.5, 6.4, 51.51)\n",
       "Coordinate Operation:\n",
       "- name: Belgian Lambert 72\n",
       "- method: Lambert Conic Conformal (2SP)\n",
       "Datum: Reseau National Belge 1972\n",
       "- Ellipsoid: International 1924\n",
       "- Prime Meridian: Greenwich"
      ]
     },
     "execution_count": 7,
     "metadata": {},
     "output_type": "execute_result"
    }
   ],
   "source": [
    "import pyproj\n",
    "crs = pyproj.CRS(\"EPSG:31370\")\n",
    "crs"
   ]
  },
  {
   "cell_type": "code",
   "execution_count": 8,
   "metadata": {},
   "outputs": [
    {
     "data": {
      "text/plain": [
       "False"
      ]
     },
     "execution_count": 8,
     "metadata": {},
     "output_type": "execute_result"
    }
   ],
   "source": [
    "crs.is_geographic"
   ]
  },
  {
   "cell_type": "code",
   "execution_count": 9,
   "metadata": {},
   "outputs": [
    {
     "data": {
      "text/plain": [
       "True"
      ]
     },
     "execution_count": 9,
     "metadata": {},
     "output_type": "execute_result"
    }
   ],
   "source": [
    "crs.is_projected"
   ]
  },
  {
   "cell_type": "markdown",
   "metadata": {},
   "source": [
    "For more, see the pyproj docs: https://pyproj4.github.io/pyproj/stable/api/crs.html#pyproj-crs"
   ]
  },
  {
   "cell_type": "markdown",
   "metadata": {},
   "source": [
    "## Will this change break my code?\n",
    "\n",
    "This is a big change for GeoPandas, one that is required to follow the PROJ community but I think also a nice change that improves the usability. Unfortunately, it will also require some transition work depending on your workflow.\n",
    "\n",
    "When reading geospatial files with `geopandas.read_file`, things should mostly work out of the box. But when specifying the CRS manually in your code, this will require a first clear change. Currently, a lot of people (and also the GeoPandas docs showed that) specify the EPSG code using the \"init\" proj4 string:\n",
    "\n",
    "```python\n",
    "## OLD\n",
    "GeoDataFrame(..., crs={'init': 'epsg:4326'})\n",
    "# or\n",
    "gdf.crs = {'init': 'epsg:4326'}\n",
    "# or\n",
    "gdf.to_crs({'init': 'epsg:4326'})\n",
    "```\n",
    "\n",
    "The above will now raise a deprecation warning from pyproj, and instead of the \"init\" proj4 string, you should use only the EPSG code itself as follows: \n",
    "\n",
    "```python\n",
    "## NEW\n",
    "GeoDataFrame(..., crs=\"EPSG:4326\")\n",
    "# or\n",
    "gdf.crs = \"EPSG:4326\"\n",
    "# or\n",
    "gdf.to_crs(\"EPSG:4326\")\n",
    "```\n",
    "\n",
    "See the [pyproj docs](https://pyproj4.github.io/pyproj/stable/gotchas.html#init-auth-auth-code-should-be-replaced-with-auth-auth-code) for more on this. If you used a full proj4 string, it is also recommended to change it with an EPSG code if possible.\n",
    "\n",
    "One actual breaking change is that the returned value from `crs` is no longer a string or dict. So if you relied on this aspect, an update will be needed. For example, I have seen this code in the wild to get the EPSG code:\n",
    "\n",
    "```python\n",
    "gdf.crs['init']\n",
    "# or \n",
    "'init' in gdf.crs\n",
    "```\n",
    "\n",
    "This will no longer work. To get the EPSG code from a `crs` object, you can use the `to_epsg()` method. And there are many other methods available on the CRS class to get information about the CRS."
   ]
  },
  {
   "cell_type": "markdown",
   "metadata": {},
   "source": [
    "There are probably other (unforeseen) cases that might require updating your code. **If you encounter any problems when upgrading to GeoPandas 0.7, please provide feedback on [Github](https://github.com/geopandas/geopandas/issues)!** That way we can try to smooth this migration with ironing out issues or improving the documentation on how to upgrade."
   ]
  },
  {
   "cell_type": "markdown",
   "metadata": {},
   "source": [
    "## Thanks to the PROJ and pyproj communities!\n",
    "\n",
    "This is an important change for GeoPandas, providing better and more user-friendly handling of Coordinate Reference Systems. And all that is only possible thanks to the PROJ and pyproj projects (and special thanks to [Even Raoult](https://twitter.com/EvenRouault) for a lot of the PROJ work, and to [Alan Snow](https://github.com/snowman2) for his work on pyproj and integrating this in GeoPandas). "
   ]
  }
 ],
 "metadata": {
  "kernelspec": {
   "display_name": "Python (geo-dev)",
   "language": "python",
   "name": "geo-dev"
  },
  "language_info": {
   "codemirror_mode": {
    "name": "ipython",
    "version": 3
   },
   "file_extension": ".py",
   "mimetype": "text/x-python",
   "name": "python",
   "nbconvert_exporter": "python",
   "pygments_lexer": "ipython3",
   "version": "3.8.1"
  }
 },
 "nbformat": 4,
 "nbformat_minor": 4
}
