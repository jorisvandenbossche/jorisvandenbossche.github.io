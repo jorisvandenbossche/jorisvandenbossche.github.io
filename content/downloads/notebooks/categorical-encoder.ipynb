{
 "cells": [
  {
   "cell_type": "markdown",
   "metadata": {},
   "source": [
    "# A new `CategoricalEncoder` for handling categorical features in scikit-learn"
   ]
  },
  {
   "cell_type": "markdown",
   "metadata": {},
   "source": [
    "*This work is supported by the Université Paris-Saclay Center for Data Science*"
   ]
  },
  {
   "cell_type": "markdown",
   "metadata": {},
   "source": [
    "<!-- PELICAN_BEGIN_SUMMARY -->\n",
    "<p>\n",
    "Short summary: a <code>CategoricalEncoder</code> has landed in scikit-learn (<a href=\"https://github.com/scikit-learn/scikit-learn/pull/9151\">the PR</a> has been merged in master and this will be included in the next release). \n",
    "</p>\n",
    "<!-- PELICAN_END_SUMMARY -->"
   ]
  },
  {
   "cell_type": "markdown",
   "metadata": {},
   "source": [
    "---\n",
    "When working with prediction problems, in many cases your dataset will contain categorical variables. These are non-numeric variables -- or if numeric, the values should not be interpreted as numeric values -- that typically consist of a limited number of unique values (the categories or the levels). \n",
    "On the other hand, most machine learning models require numeric input data. Therefore, categorical variables are *encoded*: they are converted to one or multiple numeric features.\n",
    "A well known example is one-hot or dummy encoding.\n",
    "\n",
    "\n",
    "Currently there is no good out-of-the-box solution in scikit-learn. There is the `OneHotEncoder` which provides one-hot encoding, but because it only works on integer columns and has a bit of an awkward API, it is rather limited in practice. \n",
    "Chris Mofitt recently wrote a nice guide on how to encode categorical variables in python ([see his blogpost](http://pbpython.com/categorical-encoding.html)). He shows different ways to solve this: by (mis)using the `LabelEncoder` (which is actually meant for the target variable, not for encoding features) or using pandas' `get_dummies`, etc.\n",
    "But none of these solutions are ideal for the simple cases or can readily be integrated in scikit-learn pipelines.\n",
    "\n",
    "The newly added `CategoricalEncoder` tries to solve this: provide a built-in way to encode your categorical variables with some common options (either a one-hot or dummy encoding or an ordinal encoding)."
   ]
  },
  {
   "cell_type": "markdown",
   "metadata": {},
   "source": [
    "### Example"
   ]
  },
  {
   "cell_type": "markdown",
   "metadata": {},
   "source": [
    "To illustrate the basic usage of this new transformer, let's load the titanic survival dataset:"
   ]
  },
  {
   "cell_type": "code",
   "execution_count": 1,
   "metadata": {
    "collapsed": true
   },
   "outputs": [],
   "source": [
    "titanic = pd.read_csv(\"https://raw.githubusercontent.com/amueller/scipy-2017-sklearn/master/notebooks/datasets/titanic3.csv\")\n",
    "titanic = titanic[['pclass', 'sex', 'age', 'sibsp', 'parch', 'fare', 'embarked', 'survived']].dropna()"
   ]
  },
  {
   "cell_type": "code",
   "execution_count": 2,
   "metadata": {},
   "outputs": [
    {
     "data": {
      "text/html": [
       "<div>\n",
       "<style scoped>\n",
       "    .dataframe tbody tr th:only-of-type {\n",
       "        vertical-align: middle;\n",
       "    }\n",
       "\n",
       "    .dataframe tbody tr th {\n",
       "        vertical-align: top;\n",
       "    }\n",
       "\n",
       "    .dataframe thead th {\n",
       "        text-align: right;\n",
       "    }\n",
       "</style>\n",
       "<table border=\"1\" class=\"dataframe\">\n",
       "  <thead>\n",
       "    <tr style=\"text-align: right;\">\n",
       "      <th></th>\n",
       "      <th>pclass</th>\n",
       "      <th>sex</th>\n",
       "      <th>age</th>\n",
       "      <th>sibsp</th>\n",
       "      <th>parch</th>\n",
       "      <th>fare</th>\n",
       "      <th>embarked</th>\n",
       "      <th>survived</th>\n",
       "    </tr>\n",
       "  </thead>\n",
       "  <tbody>\n",
       "    <tr>\n",
       "      <th>0</th>\n",
       "      <td>1</td>\n",
       "      <td>female</td>\n",
       "      <td>29.0000</td>\n",
       "      <td>0</td>\n",
       "      <td>0</td>\n",
       "      <td>211.3375</td>\n",
       "      <td>S</td>\n",
       "      <td>1</td>\n",
       "    </tr>\n",
       "    <tr>\n",
       "      <th>1</th>\n",
       "      <td>1</td>\n",
       "      <td>male</td>\n",
       "      <td>0.9167</td>\n",
       "      <td>1</td>\n",
       "      <td>2</td>\n",
       "      <td>151.5500</td>\n",
       "      <td>S</td>\n",
       "      <td>1</td>\n",
       "    </tr>\n",
       "    <tr>\n",
       "      <th>2</th>\n",
       "      <td>1</td>\n",
       "      <td>female</td>\n",
       "      <td>2.0000</td>\n",
       "      <td>1</td>\n",
       "      <td>2</td>\n",
       "      <td>151.5500</td>\n",
       "      <td>S</td>\n",
       "      <td>0</td>\n",
       "    </tr>\n",
       "    <tr>\n",
       "      <th>3</th>\n",
       "      <td>1</td>\n",
       "      <td>male</td>\n",
       "      <td>30.0000</td>\n",
       "      <td>1</td>\n",
       "      <td>2</td>\n",
       "      <td>151.5500</td>\n",
       "      <td>S</td>\n",
       "      <td>0</td>\n",
       "    </tr>\n",
       "    <tr>\n",
       "      <th>4</th>\n",
       "      <td>1</td>\n",
       "      <td>female</td>\n",
       "      <td>25.0000</td>\n",
       "      <td>1</td>\n",
       "      <td>2</td>\n",
       "      <td>151.5500</td>\n",
       "      <td>S</td>\n",
       "      <td>0</td>\n",
       "    </tr>\n",
       "  </tbody>\n",
       "</table>\n",
       "</div>"
      ],
      "text/plain": [
       "   pclass     sex      age  sibsp  parch      fare embarked  survived\n",
       "0       1  female  29.0000      0      0  211.3375        S         1\n",
       "1       1    male   0.9167      1      2  151.5500        S         1\n",
       "2       1  female   2.0000      1      2  151.5500        S         0\n",
       "3       1    male  30.0000      1      2  151.5500        S         0\n",
       "4       1  female  25.0000      1      2  151.5500        S         0"
      ]
     },
     "execution_count": 2,
     "metadata": {},
     "output_type": "execute_result"
    }
   ],
   "source": [
    "titanic.head()"
   ]
  },
  {
   "cell_type": "markdown",
   "metadata": {},
   "source": [
    "This dataset contains two categorical variables (\"sex\" and \"embarked\"). Now we can use the `CategoricalEncoder` to transform those two columns into one-hot encoded or dummy columns (the \"sex\" feature results in 2 dummy columns for female/male, the \"embarked\" feature in 3 columns, which gives togerther the resulting transformed array with 5 columns):"
   ]
  },
  {
   "cell_type": "code",
   "execution_count": 3,
   "metadata": {
    "collapsed": true
   },
   "outputs": [],
   "source": [
    "from sklearn.preprocessing import CategoricalEncoder"
   ]
  },
  {
   "cell_type": "code",
   "execution_count": 4,
   "metadata": {
    "collapsed": true
   },
   "outputs": [],
   "source": [
    "encoder = CategoricalEncoder(encoding='onehot-dense')"
   ]
  },
  {
   "cell_type": "code",
   "execution_count": 5,
   "metadata": {},
   "outputs": [
    {
     "data": {
      "text/plain": [
       "array([[ 1.,  0.,  0.,  0.,  1.],\n",
       "       [ 0.,  1.,  0.,  0.,  1.],\n",
       "       [ 1.,  0.,  0.,  0.,  1.],\n",
       "       ..., \n",
       "       [ 0.,  1.,  1.,  0.,  0.],\n",
       "       [ 0.,  1.,  1.,  0.,  0.],\n",
       "       [ 0.,  1.,  0.,  0.,  1.]])"
      ]
     },
     "execution_count": 5,
     "metadata": {},
     "output_type": "execute_result"
    }
   ],
   "source": [
    "encoder.fit_transform(titanic[['sex', 'embarked']])"
   ]
  },
  {
   "cell_type": "code",
   "execution_count": 6,
   "metadata": {},
   "outputs": [
    {
     "data": {
      "text/plain": [
       "[array(['female', 'male'], dtype=object), array(['C', 'Q', 'S'], dtype=object)]"
      ]
     },
     "execution_count": 6,
     "metadata": {},
     "output_type": "execute_result"
    }
   ],
   "source": [
    "encoder.categories_"
   ]
  },
  {
   "cell_type": "markdown",
   "metadata": {},
   "source": [
    "See the [development docs](http://scikit-learn.org/dev/modules/preprocessing.html#encoding-categorical-features) for more information.\n",
    "\n",
    "Having this conversion available as a sklearn transformer also makes it easier to put in a `Pipeline`. Although, this is at the moment not yet fully straightforward because we need to combine the output of this categorical encoder with the other numeric columns. Currently you can already use the [FeatureUnion](http://scikit-learn.org/stable/auto_examples/hetero_feature_union.html) or the [DataFrameMapper](https://github.com/scikit-learn-contrib/sklearn-pandas#transformation-mapping) from the sklearn-pandas project, but the future `ColumnTransformer` will provide a built-in way to make this much easier (this is another PR I am working on: https://github.com/scikit-learn/scikit-learn/pull/9012)."
   ]
  },
  {
   "cell_type": "markdown",
   "metadata": {},
   "source": [
    "**! This is brand new functionality in scikit-learn, so feedback is very welcome! (the [PR](https://github.com/scikit-learn/scikit-learn/pull/9151))**"
   ]
  },
  {
   "cell_type": "markdown",
   "metadata": {},
   "source": [
    "### Want more categorical encoders?\n",
    "\n",
    "The `CategoricalEncoder` only provides two ways to encode (one-hot or dummy, and ordinal encoding), but there are many more possible ways to convert your categorical variables into numeric features suited to feed into models. The [Category Encoders](http://contrib.scikit-learn.org/categorical-encoding/) is a scikit-learn-contrib package that provides a whole suite of scikit-learn compatible transformers for different types of categorical encodings."
   ]
  }
 ],
 "metadata": {
  "kernelspec": {
   "display_name": "Python 3 (dev)",
   "language": "python",
   "name": "dev"
  },
  "language_info": {
   "codemirror_mode": {
    "name": "ipython",
    "version": 3
   },
   "file_extension": ".py",
   "mimetype": "text/x-python",
   "name": "python",
   "nbconvert_exporter": "python",
   "pygments_lexer": "ipython3",
   "version": "3.5.4"
  },
  "nav_menu": {},
  "toc": {
   "navigate_menu": true,
   "number_sections": true,
   "sideBar": true,
   "threshold": 6,
   "toc_cell": false,
   "toc_section_display": "block",
   "toc_window_display": false
  }
 },
 "nbformat": 4,
 "nbformat_minor": 2
}
